{
 "cells": [
  {
   "cell_type": "code",
   "execution_count": 1,
   "metadata": {},
   "outputs": [],
   "source": [
    "import pandas as pd\n",
    "from math import radians\n",
    "import numpy as np\n",
    "import math\n",
    "from sklearn.metrics.pairwise import haversine_distances"
   ]
  },
  {
   "cell_type": "code",
   "execution_count": 2,
   "metadata": {},
   "outputs": [],
   "source": [
    "current_storm = pd.read_json(\"https://www.nhc.noaa.gov/CurrentStorms.json\")"
   ]
  },
  {
   "cell_type": "code",
   "execution_count": 7,
   "metadata": {},
   "outputs": [
    {
     "data": {
      "text/html": [
       "<div>\n",
       "<style scoped>\n",
       "    .dataframe tbody tr th:only-of-type {\n",
       "        vertical-align: middle;\n",
       "    }\n",
       "\n",
       "    .dataframe tbody tr th {\n",
       "        vertical-align: top;\n",
       "    }\n",
       "\n",
       "    .dataframe thead th {\n",
       "        text-align: right;\n",
       "    }\n",
       "</style>\n",
       "<table border=\"1\" class=\"dataframe\">\n",
       "  <thead>\n",
       "    <tr style=\"text-align: right;\">\n",
       "      <th></th>\n",
       "      <th>activeStorms</th>\n",
       "    </tr>\n",
       "  </thead>\n",
       "  <tbody>\n",
       "    <tr>\n",
       "      <th>0</th>\n",
       "      <td>{'id': 'al162021', 'binNumber': 'AT1', 'name':...</td>\n",
       "    </tr>\n",
       "    <tr>\n",
       "      <th>1</th>\n",
       "      <td>{'id': 'al172021', 'binNumber': 'AT2', 'name':...</td>\n",
       "    </tr>\n",
       "  </tbody>\n",
       "</table>\n",
       "</div>"
      ],
      "text/plain": [
       "                                        activeStorms\n",
       "0  {'id': 'al162021', 'binNumber': 'AT1', 'name':...\n",
       "1  {'id': 'al172021', 'binNumber': 'AT2', 'name':..."
      ]
     },
     "execution_count": 7,
     "metadata": {},
     "output_type": "execute_result"
    }
   ],
   "source": []
  },
  {
   "cell_type": "code",
   "execution_count": 11,
   "metadata": {},
   "outputs": [],
   "source": [
    "for i in range(0, len(current_storm)):\n",
    "    current_storm[\"activeStorms\"][i]"
   ]
  },
  {
   "cell_type": "code",
   "execution_count": 26,
   "metadata": {},
   "outputs": [
    {
     "ename": "KeyError",
     "evalue": "'activeStorms'",
     "output_type": "error",
     "traceback": [
      "\u001b[0;31m---------------------------------------------------------------------------\u001b[0m",
      "\u001b[0;31mKeyError\u001b[0m                                  Traceback (most recent call last)",
      "\u001b[0;32m/usr/local/anaconda3/lib/python3.8/site-packages/pandas/core/indexes/base.py\u001b[0m in \u001b[0;36mget_loc\u001b[0;34m(self, key, method, tolerance)\u001b[0m\n\u001b[1;32m   3080\u001b[0m             \u001b[0;32mtry\u001b[0m\u001b[0;34m:\u001b[0m\u001b[0;34m\u001b[0m\u001b[0;34m\u001b[0m\u001b[0m\n\u001b[0;32m-> 3081\u001b[0;31m                 \u001b[0;32mreturn\u001b[0m \u001b[0mself\u001b[0m\u001b[0;34m.\u001b[0m\u001b[0m_engine\u001b[0m\u001b[0;34m.\u001b[0m\u001b[0mget_loc\u001b[0m\u001b[0;34m(\u001b[0m\u001b[0mcasted_key\u001b[0m\u001b[0;34m)\u001b[0m\u001b[0;34m\u001b[0m\u001b[0;34m\u001b[0m\u001b[0m\n\u001b[0m\u001b[1;32m   3082\u001b[0m             \u001b[0;32mexcept\u001b[0m \u001b[0mKeyError\u001b[0m \u001b[0;32mas\u001b[0m \u001b[0merr\u001b[0m\u001b[0;34m:\u001b[0m\u001b[0;34m\u001b[0m\u001b[0;34m\u001b[0m\u001b[0m\n",
      "\u001b[0;32mpandas/_libs/index.pyx\u001b[0m in \u001b[0;36mpandas._libs.index.IndexEngine.get_loc\u001b[0;34m()\u001b[0m\n",
      "\u001b[0;32mpandas/_libs/index.pyx\u001b[0m in \u001b[0;36mpandas._libs.index.IndexEngine.get_loc\u001b[0;34m()\u001b[0m\n",
      "\u001b[0;32mpandas/_libs/hashtable_class_helper.pxi\u001b[0m in \u001b[0;36mpandas._libs.hashtable.PyObjectHashTable.get_item\u001b[0;34m()\u001b[0m\n",
      "\u001b[0;32mpandas/_libs/hashtable_class_helper.pxi\u001b[0m in \u001b[0;36mpandas._libs.hashtable.PyObjectHashTable.get_item\u001b[0;34m()\u001b[0m\n",
      "\u001b[0;31mKeyError\u001b[0m: 'activeStorms'",
      "\nThe above exception was the direct cause of the following exception:\n",
      "\u001b[0;31mKeyError\u001b[0m                                  Traceback (most recent call last)",
      "\u001b[0;32m<ipython-input-26-3c12a460eccc>\u001b[0m in \u001b[0;36m<module>\u001b[0;34m\u001b[0m\n\u001b[0;32m----> 1\u001b[0;31m \u001b[0mcurrent_storm\u001b[0m \u001b[0;34m=\u001b[0m \u001b[0mpd\u001b[0m\u001b[0;34m.\u001b[0m\u001b[0mjson_normalize\u001b[0m\u001b[0;34m(\u001b[0m\u001b[0mcurrent_storm\u001b[0m\u001b[0;34m[\u001b[0m\u001b[0;34m'activeStorms'\u001b[0m\u001b[0;34m]\u001b[0m\u001b[0;34m)\u001b[0m\u001b[0;34m\u001b[0m\u001b[0;34m\u001b[0m\u001b[0m\n\u001b[0m",
      "\u001b[0;32m/usr/local/anaconda3/lib/python3.8/site-packages/pandas/core/frame.py\u001b[0m in \u001b[0;36m__getitem__\u001b[0;34m(self, key)\u001b[0m\n\u001b[1;32m   3022\u001b[0m             \u001b[0;32mif\u001b[0m \u001b[0mself\u001b[0m\u001b[0;34m.\u001b[0m\u001b[0mcolumns\u001b[0m\u001b[0;34m.\u001b[0m\u001b[0mnlevels\u001b[0m \u001b[0;34m>\u001b[0m \u001b[0;36m1\u001b[0m\u001b[0;34m:\u001b[0m\u001b[0;34m\u001b[0m\u001b[0;34m\u001b[0m\u001b[0m\n\u001b[1;32m   3023\u001b[0m                 \u001b[0;32mreturn\u001b[0m \u001b[0mself\u001b[0m\u001b[0;34m.\u001b[0m\u001b[0m_getitem_multilevel\u001b[0m\u001b[0;34m(\u001b[0m\u001b[0mkey\u001b[0m\u001b[0;34m)\u001b[0m\u001b[0;34m\u001b[0m\u001b[0;34m\u001b[0m\u001b[0m\n\u001b[0;32m-> 3024\u001b[0;31m             \u001b[0mindexer\u001b[0m \u001b[0;34m=\u001b[0m \u001b[0mself\u001b[0m\u001b[0;34m.\u001b[0m\u001b[0mcolumns\u001b[0m\u001b[0;34m.\u001b[0m\u001b[0mget_loc\u001b[0m\u001b[0;34m(\u001b[0m\u001b[0mkey\u001b[0m\u001b[0;34m)\u001b[0m\u001b[0;34m\u001b[0m\u001b[0;34m\u001b[0m\u001b[0m\n\u001b[0m\u001b[1;32m   3025\u001b[0m             \u001b[0;32mif\u001b[0m \u001b[0mis_integer\u001b[0m\u001b[0;34m(\u001b[0m\u001b[0mindexer\u001b[0m\u001b[0;34m)\u001b[0m\u001b[0;34m:\u001b[0m\u001b[0;34m\u001b[0m\u001b[0;34m\u001b[0m\u001b[0m\n\u001b[1;32m   3026\u001b[0m                 \u001b[0mindexer\u001b[0m \u001b[0;34m=\u001b[0m \u001b[0;34m[\u001b[0m\u001b[0mindexer\u001b[0m\u001b[0;34m]\u001b[0m\u001b[0;34m\u001b[0m\u001b[0;34m\u001b[0m\u001b[0m\n",
      "\u001b[0;32m/usr/local/anaconda3/lib/python3.8/site-packages/pandas/core/indexes/base.py\u001b[0m in \u001b[0;36mget_loc\u001b[0;34m(self, key, method, tolerance)\u001b[0m\n\u001b[1;32m   3081\u001b[0m                 \u001b[0;32mreturn\u001b[0m \u001b[0mself\u001b[0m\u001b[0;34m.\u001b[0m\u001b[0m_engine\u001b[0m\u001b[0;34m.\u001b[0m\u001b[0mget_loc\u001b[0m\u001b[0;34m(\u001b[0m\u001b[0mcasted_key\u001b[0m\u001b[0;34m)\u001b[0m\u001b[0;34m\u001b[0m\u001b[0;34m\u001b[0m\u001b[0m\n\u001b[1;32m   3082\u001b[0m             \u001b[0;32mexcept\u001b[0m \u001b[0mKeyError\u001b[0m \u001b[0;32mas\u001b[0m \u001b[0merr\u001b[0m\u001b[0;34m:\u001b[0m\u001b[0;34m\u001b[0m\u001b[0;34m\u001b[0m\u001b[0m\n\u001b[0;32m-> 3083\u001b[0;31m                 \u001b[0;32mraise\u001b[0m \u001b[0mKeyError\u001b[0m\u001b[0;34m(\u001b[0m\u001b[0mkey\u001b[0m\u001b[0;34m)\u001b[0m \u001b[0;32mfrom\u001b[0m \u001b[0merr\u001b[0m\u001b[0;34m\u001b[0m\u001b[0;34m\u001b[0m\u001b[0m\n\u001b[0m\u001b[1;32m   3084\u001b[0m \u001b[0;34m\u001b[0m\u001b[0m\n\u001b[1;32m   3085\u001b[0m         \u001b[0;32mif\u001b[0m \u001b[0mtolerance\u001b[0m \u001b[0;32mis\u001b[0m \u001b[0;32mnot\u001b[0m \u001b[0;32mNone\u001b[0m\u001b[0;34m:\u001b[0m\u001b[0;34m\u001b[0m\u001b[0;34m\u001b[0m\u001b[0m\n",
      "\u001b[0;31mKeyError\u001b[0m: 'activeStorms'"
     ]
    }
   ],
   "source": [
    "current_storm = pd.json_normalize(current_storm['activeStorms'])"
   ]
  },
  {
   "cell_type": "code",
   "execution_count": 25,
   "metadata": {},
   "outputs": [],
   "source": [
    "current_storm[[\"name\", \"classification\", \"intensity\", \"pressure\",\"latitudeNumeric\",\"longitudeNumeric\",\"movementDir\",\"movementSpeed\"]].to_json(\"../data/parsed_data/active_storms.json\", orient=\"table\")"
   ]
  },
  {
   "cell_type": "code",
   "execution_count": 5,
   "metadata": {},
   "outputs": [],
   "source": [
    "def compute_distances_from_county(hurr, lat_county, lon_county):\n",
    "    lat = list(hurr['Latitude'])\n",
    "    lon = list(hurr['Longitude'])\n",
    "    for i in range(0,len(hurr)):\n",
    "        l = lat[i]\n",
    "        lo = lon[i]\n",
    "        if l[-1] == 'S':\n",
    "            lat[i] = '-' + l[:-1]\n",
    "        else:\n",
    "            lat[i] = l[:-1]\n",
    "\n",
    "        if lo[-1] == 'W':\n",
    "            lon[i] = '-' + lo[:-1]\n",
    "        else:\n",
    "            lon[i] = lo[:-1]\n",
    "    lat_in_radians = [radians(float(_)) for _ in lat]\n",
    "    lon_in_radians = [radians(float(_)) for _ in lon]\n",
    "    coords = list(zip(lat_in_radians, lon_in_radians))\n",
    "    county = list((radians(lat_county), radians(lon_county)))\n",
    "    distance = list()\n",
    "    for i in range(0, len(lat_in_radians)):\n",
    "        distance.append((haversine_distances([list(coords[i]), county])[1,0]) * 6371000/1000)\n",
    "    return distance"
   ]
  },
  {
   "cell_type": "code",
   "execution_count": 6,
   "metadata": {},
   "outputs": [],
   "source": [
    "def compute_distance_from_county(hurr, lat_county, lon_county):\n",
    "    lat_in_radians = radians(hurr['latitudeNumeric'])\n",
    "    lon_in_radians = radians(hurr['longitudeNumeric'])\n",
    "    coords = [lat_in_radians, lon_in_radians]\n",
    "    county = [radians(lat_county), radians(lon_county)]\n",
    "    return ((haversine_distances([coords, county])[1,0]) * 6371000/1000)"
   ]
  },
  {
   "cell_type": "code",
   "execution_count": 8,
   "metadata": {},
   "outputs": [],
   "source": [
    "counties = pd.read_csv('../data/hurr_database/counties.csv')"
   ]
  },
  {
   "cell_type": "code",
   "execution_count": 9,
   "metadata": {},
   "outputs": [],
   "source": [
    "def harmfulness_past_storms(dataset, hurricane, radius, path):\n",
    "    count = 0\n",
    "    for index, row in dataset.iterrows():\n",
    "        dist = compute_distances_from_county(hurricane, row[2], row[3])\n",
    "        dataset.at[index, \"distance_from_hurr\"] = dist\n",
    "    dataset[\"harmful\"] = [\"no\"] * dataset.shape[0]\n",
    "    for i in range(0, len(dataset)):\n",
    "        if min(dataset[\"distance_from_hurr\"].iloc[i]) < radius:\n",
    "            dataset[\"harmful\"].iloc[i] = \"yes\"\n",
    "    send_to_jacob = dataset[dataset[\"harmful\"] == \"yes\"]\n",
    "    send_to_jacob[\"min_distance\"] = [0] * send_to_jacob.shape[0]\n",
    "    for i in range(0, len(send_to_jacob)):\n",
    "        send_to_jacob[\"min_distance\"].iloc[i] = min(send_to_jacob[\"distance_from_hurr\"].iloc[i])\n",
    "    temp = send_to_jacob[[\"lat\", \"lon\", \"min_distance\"]].drop_duplicates()\n",
    "    temp.to_json(path, orient=\"table\")\n",
    "    return temp"
   ]
  },
  {
   "cell_type": "code",
   "execution_count": 19,
   "metadata": {},
   "outputs": [],
   "source": [
    "def harmfulness_current(dataset, hurricane, radius, path):\n",
    "    count = 0\n",
    "    for index, row in dataset.iterrows():\n",
    "        dist = compute_distance_from_county(hurricane, row[2], row[3])\n",
    "        dataset.at[index, \"distance_from_hurr\"] = dist\n",
    "    dataset[\"harmful\"] = [\"no\"] * dataset.shape[0]\n",
    "    for i in range(0, len(dataset)):\n",
    "        if dataset[\"distance_from_hurr\"].iloc[i] < radius:\n",
    "            dataset[\"harmful\"].iloc[i] = \"yes\"\n",
    "    send_to_jacob = dataset[dataset[\"harmful\"] == \"yes\"]\n",
    "    send_to_jacob[\"min_distance\"] = [0] * send_to_jacob.shape[0]\n",
    "    for i in range(0, len(send_to_jacob)):\n",
    "        send_to_jacob[\"min_distance\"].iloc[i] = min(send_to_jacob[\"distance_from_hurr\"].iloc[i])\n",
    "    temp = send_to_jacob[[\"lat\", \"lon\", \"min_distance\"]].drop_duplicates()\n",
    "    temp.to_json(path, orient=\"table\")\n",
    "    return temp"
   ]
  },
  {
   "cell_type": "code",
   "execution_count": 31,
   "metadata": {},
   "outputs": [],
   "source": [
    "curr = current_storm[[\"name\",\"latitudeNumeric\",\"longitudeNumeric\"]]"
   ]
  },
  {
   "cell_type": "code",
   "execution_count": 22,
   "metadata": {},
   "outputs": [
    {
     "data": {
      "text/html": [
       "<div>\n",
       "<style scoped>\n",
       "    .dataframe tbody tr th:only-of-type {\n",
       "        vertical-align: middle;\n",
       "    }\n",
       "\n",
       "    .dataframe tbody tr th {\n",
       "        vertical-align: top;\n",
       "    }\n",
       "\n",
       "    .dataframe thead th {\n",
       "        text-align: right;\n",
       "    }\n",
       "</style>\n",
       "<table border=\"1\" class=\"dataframe\">\n",
       "  <thead>\n",
       "    <tr style=\"text-align: right;\">\n",
       "      <th></th>\n",
       "      <th>county</th>\n",
       "      <th>state</th>\n",
       "      <th>lat</th>\n",
       "      <th>lon</th>\n",
       "      <th>distance_from_hurr</th>\n",
       "      <th>harmful</th>\n",
       "    </tr>\n",
       "  </thead>\n",
       "  <tbody>\n",
       "    <tr>\n",
       "      <th>44</th>\n",
       "      <td>Suffolk</td>\n",
       "      <td>Massachusetts</td>\n",
       "      <td>42.333904</td>\n",
       "      <td>-71.073099</td>\n",
       "      <td>3175.287371</td>\n",
       "      <td>no</td>\n",
       "    </tr>\n",
       "    <tr>\n",
       "      <th>411</th>\n",
       "      <td>Hillsborough</td>\n",
       "      <td>Florida</td>\n",
       "      <td>27.929356</td>\n",
       "      <td>-82.308788</td>\n",
       "      <td>3139.494459</td>\n",
       "      <td>no</td>\n",
       "    </tr>\n",
       "    <tr>\n",
       "      <th>412</th>\n",
       "      <td>Manatee</td>\n",
       "      <td>Florida</td>\n",
       "      <td>27.471889</td>\n",
       "      <td>-82.315280</td>\n",
       "      <td>3127.860688</td>\n",
       "      <td>no</td>\n",
       "    </tr>\n",
       "    <tr>\n",
       "      <th>416</th>\n",
       "      <td>New York City</td>\n",
       "      <td>New York</td>\n",
       "      <td>40.660000</td>\n",
       "      <td>-73.940000</td>\n",
       "      <td>3188.151959</td>\n",
       "      <td>no</td>\n",
       "    </tr>\n",
       "    <tr>\n",
       "      <th>441</th>\n",
       "      <td>Fulton</td>\n",
       "      <td>Georgia</td>\n",
       "      <td>33.790281</td>\n",
       "      <td>-84.467000</td>\n",
       "      <td>3539.497946</td>\n",
       "      <td>no</td>\n",
       "    </tr>\n",
       "    <tr>\n",
       "      <th>...</th>\n",
       "      <td>...</td>\n",
       "      <td>...</td>\n",
       "      <td>...</td>\n",
       "      <td>...</td>\n",
       "      <td>...</td>\n",
       "      <td>...</td>\n",
       "    </tr>\n",
       "    <tr>\n",
       "      <th>128581</th>\n",
       "      <td>Covington city</td>\n",
       "      <td>Virginia</td>\n",
       "      <td>37.778547</td>\n",
       "      <td>-79.986780</td>\n",
       "      <td>3385.441789</td>\n",
       "      <td>no</td>\n",
       "    </tr>\n",
       "    <tr>\n",
       "      <th>157400</th>\n",
       "      <td>Avery</td>\n",
       "      <td>North Carolina</td>\n",
       "      <td>36.076551</td>\n",
       "      <td>-81.922587</td>\n",
       "      <td>3436.881013</td>\n",
       "      <td>no</td>\n",
       "    </tr>\n",
       "    <tr>\n",
       "      <th>243755</th>\n",
       "      <td>Dickenson</td>\n",
       "      <td>Virginia</td>\n",
       "      <td>37.125756</td>\n",
       "      <td>-82.350401</td>\n",
       "      <td>3526.410512</td>\n",
       "      <td>no</td>\n",
       "    </tr>\n",
       "    <tr>\n",
       "      <th>253004</th>\n",
       "      <td>Bland</td>\n",
       "      <td>Virginia</td>\n",
       "      <td>37.133980</td>\n",
       "      <td>-81.130295</td>\n",
       "      <td>3433.159366</td>\n",
       "      <td>no</td>\n",
       "    </tr>\n",
       "    <tr>\n",
       "      <th>312355</th>\n",
       "      <td>Bath</td>\n",
       "      <td>Virginia</td>\n",
       "      <td>38.058718</td>\n",
       "      <td>-79.741099</td>\n",
       "      <td>3384.687713</td>\n",
       "      <td>no</td>\n",
       "    </tr>\n",
       "  </tbody>\n",
       "</table>\n",
       "<p>731 rows × 6 columns</p>\n",
       "</div>"
      ],
      "text/plain": [
       "                county           state        lat        lon  \\\n",
       "44             Suffolk   Massachusetts  42.333904 -71.073099   \n",
       "411       Hillsborough         Florida  27.929356 -82.308788   \n",
       "412            Manatee         Florida  27.471889 -82.315280   \n",
       "416      New York City        New York  40.660000 -73.940000   \n",
       "441             Fulton         Georgia  33.790281 -84.467000   \n",
       "...                ...             ...        ...        ...   \n",
       "128581  Covington city        Virginia  37.778547 -79.986780   \n",
       "157400           Avery  North Carolina  36.076551 -81.922587   \n",
       "243755       Dickenson        Virginia  37.125756 -82.350401   \n",
       "253004           Bland        Virginia  37.133980 -81.130295   \n",
       "312355            Bath        Virginia  38.058718 -79.741099   \n",
       "\n",
       "        distance_from_hurr harmful  \n",
       "44             3175.287371      no  \n",
       "411            3139.494459      no  \n",
       "412            3127.860688      no  \n",
       "416            3188.151959      no  \n",
       "441            3539.497946      no  \n",
       "...                    ...     ...  \n",
       "128581         3385.441789      no  \n",
       "157400         3436.881013      no  \n",
       "243755         3526.410512      no  \n",
       "253004         3433.159366      no  \n",
       "312355         3384.687713      no  \n",
       "\n",
       "[731 rows x 6 columns]"
      ]
     },
     "execution_count": 22,
     "metadata": {},
     "output_type": "execute_result"
    }
   ],
   "source": [
    "atl_counties"
   ]
  },
  {
   "cell_type": "code",
   "execution_count": 23,
   "metadata": {},
   "outputs": [
    {
     "data": {
      "text/html": [
       "<div>\n",
       "<style scoped>\n",
       "    .dataframe tbody tr th:only-of-type {\n",
       "        vertical-align: middle;\n",
       "    }\n",
       "\n",
       "    .dataframe tbody tr th {\n",
       "        vertical-align: top;\n",
       "    }\n",
       "\n",
       "    .dataframe thead th {\n",
       "        text-align: right;\n",
       "    }\n",
       "</style>\n",
       "<table border=\"1\" class=\"dataframe\">\n",
       "  <thead>\n",
       "    <tr style=\"text-align: right;\">\n",
       "      <th></th>\n",
       "      <th>lat</th>\n",
       "      <th>lon</th>\n",
       "      <th>min_distance</th>\n",
       "    </tr>\n",
       "  </thead>\n",
       "  <tbody>\n",
       "  </tbody>\n",
       "</table>\n",
       "</div>"
      ],
      "text/plain": [
       "Empty DataFrame\n",
       "Columns: [lat, lon, min_distance]\n",
       "Index: []"
      ]
     },
     "execution_count": 23,
     "metadata": {},
     "output_type": "execute_result"
    }
   ],
   "source": [
    "harmfulness_current(atl_counties, curr.loc[0], 300, \"../data/parsed_data/temp.json\")"
   ]
  },
  {
   "cell_type": "code",
   "execution_count": null,
   "metadata": {},
   "outputs": [],
   "source": []
  }
 ],
 "metadata": {
  "kernelspec": {
   "display_name": "Python 3.8.5 64-bit ('base': conda)",
   "language": "python",
   "name": "python385jvsc74a57bd0e134e05457d34029b6460cd73bbf1ed73f339b5b6d98c95be70b69eba114fe95"
  },
  "language_info": {
   "codemirror_mode": {
    "name": "ipython",
    "version": 3
   },
   "file_extension": ".py",
   "mimetype": "text/x-python",
   "name": "python",
   "nbconvert_exporter": "python",
   "pygments_lexer": "ipython3",
   "version": "3.8.5"
  }
 },
 "nbformat": 4,
 "nbformat_minor": 4
}
