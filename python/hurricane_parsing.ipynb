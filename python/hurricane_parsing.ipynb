{
 "cells": [
  {
   "cell_type": "code",
   "execution_count": 28,
   "metadata": {},
   "outputs": [],
   "source": [
    "import pandas as pd\n",
    "from math import radians\n",
    "from sklearn.metrics.pairwise import haversine_distances"
   ]
  },
  {
   "cell_type": "code",
   "execution_count": 65,
   "metadata": {},
   "outputs": [],
   "source": [
    "data = pandas.read_csv('../data/hurr_database/hur.csv', header=0, delimiter=',' ,parse_dates=['date_time'])\n",
    "data = data.drop('Unnamed: 0', axis=1)\n",
    "location = data[[\"Name\", \"Latitude\", \"Longitude\", \"Maximum_sustained_wind_in_knots\", \"Year\"]]\n",
    "location = location[35683:]"
   ]
  },
  {
   "cell_type": "code",
   "execution_count": 66,
   "metadata": {},
   "outputs": [],
   "source": [
    "def get_hurricane_data(radius, name, year):\n",
    "    hurricane = location[(location[\"Name\"] == name) & (location[\"Year\"] == year)]\n",
    "    hurricane.to_json(f\"../data/parsed_data/{name}.json\", orient=\"table\")\n",
    "    atl_counties = pd.read_csv('../data/hurr_database/counties.csv', usecols=[\"county\", \"state\", \"lat\", \"lon\"])\n",
    "    atl_counties[\"distance_from_hurr\"] = [''] * 731\n",
    "    harmfulness(atl_counties, hurricane, radius, f\"../data/parsed_data/{name}_damage.json\")"
   ]
  },
  {
   "cell_type": "code",
   "execution_count": 68,
   "metadata": {},
   "outputs": [
    {
     "name": "stdout",
     "output_type": "stream",
     "text": [
      "51.84946040810249\n",
      "68.33844566030866\n",
      "78.85189948846015\n",
      "38.969091393729485\n",
      "87.85037235320829\n",
      "44.39070636503807\n",
      "78.25195513751312\n",
      "58.98931293345212\n",
      "61.446191933804904\n",
      "46.74803520821778\n",
      "39.34524930413217\n",
      "45.98542046759481\n",
      "68.28059793124869\n",
      "79.70383038308125\n",
      "88.79999673927577\n",
      "29.913895510308688\n",
      "75.07798176500343\n",
      "95.60017178707682\n",
      "94.54947461309678\n",
      "77.79705936231866\n",
      "60.02397120622641\n",
      "46.35435795802956\n",
      "14.034108411328745\n",
      "55.72503678098054\n",
      "61.95379580811297\n",
      "44.96384556525534\n",
      "44.33570388544337\n",
      "16.352717689987983\n",
      "56.384620903804716\n",
      "49.05707743477319\n",
      "54.294114683967145\n",
      "91.11980913620853\n",
      "77.87101902804156\n",
      "20.32813325079998\n",
      "55.20839131691062\n",
      "25.39235962559364\n",
      "42.75229853498751\n",
      "73.45151828205213\n",
      "75.56567825897014\n",
      "82.96619831223613\n",
      "22.759470512248395\n",
      "89.61357529873153\n",
      "93.78326932703605\n",
      "18.99208237527642\n",
      "30.893144733873378\n",
      "75.77932477708349\n",
      "58.60970293451299\n",
      "48.77115096694233\n",
      "73.07064006403203\n",
      "12.427973886613346\n",
      "47.5238112013611\n",
      "53.47779493277124\n",
      "32.20161601316279\n",
      "63.33475259994602\n",
      "38.452837257440905\n",
      "56.42095851835439\n",
      "96.76295076007506\n",
      "58.83670745676063\n",
      "56.3350237979459\n",
      "55.898409809297455\n",
      "88.24573313041616\n",
      "32.958027603341385\n",
      "81.40023505659673\n",
      "             county           state        lat        lon  \\\n",
      "0           Suffolk   Massachusetts  42.333904 -71.073099   \n",
      "1      Hillsborough         Florida  27.929356 -82.308788   \n",
      "2           Manatee         Florida  27.471889 -82.315280   \n",
      "3     New York City        New York  40.660000 -73.940000   \n",
      "4            Fulton         Georgia  33.790281 -84.467000   \n",
      "..              ...             ...        ...        ...   \n",
      "726  Covington city        Virginia  37.778547 -79.986780   \n",
      "727           Avery  North Carolina  36.076551 -81.922587   \n",
      "728       Dickenson        Virginia  37.125756 -82.350401   \n",
      "729           Bland        Virginia  37.133980 -81.130295   \n",
      "730            Bath        Virginia  38.058718 -79.741099   \n",
      "\n",
      "                                    distance_from_hurr harmful  \n",
      "0    [3175.8634922864835, 3227.185029731721, 3278.7...      no  \n",
      "1    [1598.2060587349838, 1628.2843706901167, 1659....      no  \n",
      "2    [1550.5714946368505, 1580.061335436878, 1611.2...      no  \n",
      "3    [2950.2664906045243, 2999.1265185444913, 3048....      no  \n",
      "4    [2281.172700237039, 2311.692872011786, 2343.29...      no  \n",
      "..                                                 ...     ...  \n",
      "726  [2623.1475176406007, 2663.9535277479104, 2705....      no  \n",
      "727  [2462.9814059791684, 2499.9610823963703, 2537....      no  \n",
      "728  [2585.029548451914, 2621.7192029703865, 2659.2...      no  \n",
      "729  [2565.760130429439, 2604.526487024817, 2644.04...      no  \n",
      "730  [2651.9012859674745, 2693.1462214026515, 2735....      no  \n",
      "\n",
      "[731 rows x 6 columns]\n"
     ]
    },
    {
     "name": "stderr",
     "output_type": "stream",
     "text": [
      "/usr/local/anaconda3/lib/python3.8/site-packages/pandas/core/indexing.py:1637: SettingWithCopyWarning: \n",
      "A value is trying to be set on a copy of a slice from a DataFrame\n",
      "\n",
      "See the caveats in the documentation: https://pandas.pydata.org/pandas-docs/stable/user_guide/indexing.html#returning-a-view-versus-a-copy\n",
      "  self._setitem_single_block(indexer, value, name)\n",
      "<ipython-input-59-ad346ec5bb5a>:12: SettingWithCopyWarning: \n",
      "A value is trying to be set on a copy of a slice from a DataFrame.\n",
      "Try using .loc[row_indexer,col_indexer] = value instead\n",
      "\n",
      "See the caveats in the documentation: https://pandas.pydata.org/pandas-docs/stable/user_guide/indexing.html#returning-a-view-versus-a-copy\n",
      "  send_to_jacob[\"min_distance\"] = [0] * send_to_jacob.shape[0]\n",
      "/usr/local/anaconda3/lib/python3.8/site-packages/pandas/core/indexing.py:692: SettingWithCopyWarning: \n",
      "A value is trying to be set on a copy of a slice from a DataFrame\n",
      "\n",
      "See the caveats in the documentation: https://pandas.pydata.org/pandas-docs/stable/user_guide/indexing.html#returning-a-view-versus-a-copy\n",
      "  iloc._setitem_with_indexer(indexer, value, self.name)\n"
     ]
    }
   ],
   "source": [
    "get_hurricane_data(100, \"SANDY\", 2012)"
   ]
  },
  {
   "cell_type": "code",
   "execution_count": 55,
   "metadata": {},
   "outputs": [],
   "source": [
    "def compute_distances_from_county(hurr, lat_county, lon_county):\n",
    "    lat = list(hurr['Latitude'])\n",
    "    lon = list(hurr['Longitude'])\n",
    "    lat_in_radians = [radians(float(_)) for _ in lat]\n",
    "    lon_in_radians = [radians(float(_)) for _ in lon]\n",
    "    coords = list(zip(lat_in_radians, lon_in_radians))\n",
    "    county = list((radians(lat_county), radians(lon_county)))\n",
    "    distance = list()\n",
    "    for i in range(0, len(lat_in_radians)):\n",
    "        distance.append((haversine_distances([list(coords[i]), county])[1,0]) * 6371000/1000)\n",
    "    return distance"
   ]
  },
  {
   "cell_type": "code",
   "execution_count": 59,
   "metadata": {
    "tags": []
   },
   "outputs": [],
   "source": [
    "def harmfulness(dataset, hurricane, radius, path):\n",
    "    count = 0\n",
    "    for index, row in dataset.iterrows():\n",
    "        dist = compute_distances_from_county(hurricane, row[2], row[3])\n",
    "        dataset.at[index, \"distance_from_hurr\"] = dist\n",
    "    dataset[\"harmful\"] = [\"no\"] * dataset.shape[0]\n",
    "    for i in range(0, len(dataset)):\n",
    "        if min(dataset[\"distance_from_hurr\"].iloc[i]) < radius:\n",
    "            print(min(dataset[\"distance_from_hurr\"].iloc[i]))\n",
    "            dataset[\"harmful\"].iloc[i] = \"yes\"\n",
    "    send_to_jacob = dataset[dataset[\"harmful\"] == \"yes\"]\n",
    "    send_to_jacob[\"min_distance\"] = [0] * send_to_jacob.shape[0]\n",
    "    for i in range(0, len(send_to_jacob)):\n",
    "        send_to_jacob[\"min_distance\"].iloc[i] = min(send_to_jacob[\"distance_from_hurr\"].iloc[i])\n",
    "    temp = send_to_jacob[[\"lat\", \"lon\", \"min_distance\"]].drop_duplicates()\n",
    "    temp.to_json(path, orient=\"table\")\n",
    "    print(dataset)\n",
    "    return temp"
   ]
  },
  {
   "cell_type": "code",
   "execution_count": null,
   "metadata": {},
   "outputs": [],
   "source": []
  }
 ],
 "metadata": {
  "interpreter": {
   "hash": "3067ead486e059ec00ffe7555bdb889e6e264a24dc711bf108106cc7baee8d5d"
  },
  "kernelspec": {
   "display_name": "Python 3",
   "language": "python",
   "name": "python3"
  },
  "language_info": {
   "codemirror_mode": {
    "name": "ipython",
    "version": 3
   },
   "file_extension": ".py",
   "mimetype": "text/x-python",
   "name": "python",
   "nbconvert_exporter": "python",
   "pygments_lexer": "ipython3",
   "version": "3.8.5"
  }
 },
 "nbformat": 4,
 "nbformat_minor": 4
}
