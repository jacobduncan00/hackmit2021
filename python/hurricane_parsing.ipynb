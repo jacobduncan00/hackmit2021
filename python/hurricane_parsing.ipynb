{
 "cells": [
  {
   "cell_type": "code",
   "execution_count": 2,
   "source": [
    "import pandas\n",
    "import numpy \n",
    "import numpy.linalg as la\n",
    "import geopandas as gpd\n",
    "import matplotlib.pyplot as plt\n",
    "from sklearn.metrics.pairwise import haversine_distances\n",
    "from math import radians"
   ],
   "outputs": [],
   "metadata": {}
  },
  {
   "cell_type": "code",
   "execution_count": 3,
   "source": [
    "data = pandas.read_csv('../data/hurr_database/atlantic.csv')"
   ],
   "outputs": [],
   "metadata": {}
  },
  {
   "cell_type": "code",
   "execution_count": 4,
   "source": [
    "data.columns"
   ],
   "outputs": [
    {
     "output_type": "execute_result",
     "data": {
      "text/plain": [
       "Index(['ID', 'Name', 'Date', 'Time', 'Event', 'Status', 'Latitude',\n",
       "       'Longitude', 'Maximum Wind', 'Minimum Pressure', 'Low Wind NE',\n",
       "       'Low Wind SE', 'Low Wind SW', 'Low Wind NW', 'Moderate Wind NE',\n",
       "       'Moderate Wind SE', 'Moderate Wind SW', 'Moderate Wind NW',\n",
       "       'High Wind NE', 'High Wind SE', 'High Wind SW', 'High Wind NW'],\n",
       "      dtype='object')"
      ]
     },
     "metadata": {},
     "execution_count": 4
    }
   ],
   "metadata": {}
  },
  {
   "cell_type": "code",
   "execution_count": 5,
   "source": [
    "location = data[[\"ID\", \"Name\",\"Latitude\", \"Longitude\"]]"
   ],
   "outputs": [],
   "metadata": {}
  },
  {
   "cell_type": "code",
   "execution_count": 11,
   "source": [
    "hurr_KATE = location[location[\"ID\"] == 'AL122015']\n",
    "hurr_KATE"
   ],
   "outputs": [
    {
     "output_type": "execute_result",
     "data": {
      "text/html": [
       "<div>\n",
       "<style scoped>\n",
       "    .dataframe tbody tr th:only-of-type {\n",
       "        vertical-align: middle;\n",
       "    }\n",
       "\n",
       "    .dataframe tbody tr th {\n",
       "        vertical-align: top;\n",
       "    }\n",
       "\n",
       "    .dataframe thead th {\n",
       "        text-align: right;\n",
       "    }\n",
       "</style>\n",
       "<table border=\"1\" class=\"dataframe\">\n",
       "  <thead>\n",
       "    <tr style=\"text-align: right;\">\n",
       "      <th></th>\n",
       "      <th>ID</th>\n",
       "      <th>Name</th>\n",
       "      <th>Latitude</th>\n",
       "      <th>Longitude</th>\n",
       "    </tr>\n",
       "  </thead>\n",
       "  <tbody>\n",
       "    <tr>\n",
       "      <th>49085</th>\n",
       "      <td>AL122015</td>\n",
       "      <td>KATE</td>\n",
       "      <td>22.2N</td>\n",
       "      <td>71.5W</td>\n",
       "    </tr>\n",
       "    <tr>\n",
       "      <th>49086</th>\n",
       "      <td>AL122015</td>\n",
       "      <td>KATE</td>\n",
       "      <td>22.8N</td>\n",
       "      <td>72.6W</td>\n",
       "    </tr>\n",
       "    <tr>\n",
       "      <th>49087</th>\n",
       "      <td>AL122015</td>\n",
       "      <td>KATE</td>\n",
       "      <td>23.4N</td>\n",
       "      <td>73.7W</td>\n",
       "    </tr>\n",
       "    <tr>\n",
       "      <th>49088</th>\n",
       "      <td>AL122015</td>\n",
       "      <td>KATE</td>\n",
       "      <td>24.1N</td>\n",
       "      <td>74.8W</td>\n",
       "    </tr>\n",
       "    <tr>\n",
       "      <th>49089</th>\n",
       "      <td>AL122015</td>\n",
       "      <td>KATE</td>\n",
       "      <td>25.0N</td>\n",
       "      <td>75.7W</td>\n",
       "    </tr>\n",
       "    <tr>\n",
       "      <th>49090</th>\n",
       "      <td>AL122015</td>\n",
       "      <td>KATE</td>\n",
       "      <td>26.4N</td>\n",
       "      <td>76.2W</td>\n",
       "    </tr>\n",
       "    <tr>\n",
       "      <th>49091</th>\n",
       "      <td>AL122015</td>\n",
       "      <td>KATE</td>\n",
       "      <td>28.0N</td>\n",
       "      <td>76.2W</td>\n",
       "    </tr>\n",
       "    <tr>\n",
       "      <th>49092</th>\n",
       "      <td>AL122015</td>\n",
       "      <td>KATE</td>\n",
       "      <td>29.5N</td>\n",
       "      <td>75.4W</td>\n",
       "    </tr>\n",
       "    <tr>\n",
       "      <th>49093</th>\n",
       "      <td>AL122015</td>\n",
       "      <td>KATE</td>\n",
       "      <td>31.2N</td>\n",
       "      <td>74.0W</td>\n",
       "    </tr>\n",
       "    <tr>\n",
       "      <th>49094</th>\n",
       "      <td>AL122015</td>\n",
       "      <td>KATE</td>\n",
       "      <td>33.1N</td>\n",
       "      <td>71.3W</td>\n",
       "    </tr>\n",
       "    <tr>\n",
       "      <th>49095</th>\n",
       "      <td>AL122015</td>\n",
       "      <td>KATE</td>\n",
       "      <td>35.2N</td>\n",
       "      <td>67.6W</td>\n",
       "    </tr>\n",
       "    <tr>\n",
       "      <th>49096</th>\n",
       "      <td>AL122015</td>\n",
       "      <td>KATE</td>\n",
       "      <td>36.2N</td>\n",
       "      <td>62.5W</td>\n",
       "    </tr>\n",
       "    <tr>\n",
       "      <th>49097</th>\n",
       "      <td>AL122015</td>\n",
       "      <td>KATE</td>\n",
       "      <td>37.6N</td>\n",
       "      <td>58.2W</td>\n",
       "    </tr>\n",
       "    <tr>\n",
       "      <th>49098</th>\n",
       "      <td>AL122015</td>\n",
       "      <td>KATE</td>\n",
       "      <td>38.9N</td>\n",
       "      <td>55.0W</td>\n",
       "    </tr>\n",
       "    <tr>\n",
       "      <th>49099</th>\n",
       "      <td>AL122015</td>\n",
       "      <td>KATE</td>\n",
       "      <td>40.0N</td>\n",
       "      <td>52.0W</td>\n",
       "    </tr>\n",
       "    <tr>\n",
       "      <th>49100</th>\n",
       "      <td>AL122015</td>\n",
       "      <td>KATE</td>\n",
       "      <td>41.3N</td>\n",
       "      <td>50.4W</td>\n",
       "    </tr>\n",
       "    <tr>\n",
       "      <th>49101</th>\n",
       "      <td>AL122015</td>\n",
       "      <td>KATE</td>\n",
       "      <td>41.9N</td>\n",
       "      <td>49.9W</td>\n",
       "    </tr>\n",
       "    <tr>\n",
       "      <th>49102</th>\n",
       "      <td>AL122015</td>\n",
       "      <td>KATE</td>\n",
       "      <td>41.5N</td>\n",
       "      <td>49.2W</td>\n",
       "    </tr>\n",
       "    <tr>\n",
       "      <th>49103</th>\n",
       "      <td>AL122015</td>\n",
       "      <td>KATE</td>\n",
       "      <td>40.8N</td>\n",
       "      <td>47.5W</td>\n",
       "    </tr>\n",
       "    <tr>\n",
       "      <th>49104</th>\n",
       "      <td>AL122015</td>\n",
       "      <td>KATE</td>\n",
       "      <td>40.7N</td>\n",
       "      <td>45.4W</td>\n",
       "    </tr>\n",
       "  </tbody>\n",
       "</table>\n",
       "</div>"
      ],
      "text/plain": [
       "             ID                 Name Latitude Longitude\n",
       "49085  AL122015                 KATE    22.2N     71.5W\n",
       "49086  AL122015                 KATE    22.8N     72.6W\n",
       "49087  AL122015                 KATE    23.4N     73.7W\n",
       "49088  AL122015                 KATE    24.1N     74.8W\n",
       "49089  AL122015                 KATE    25.0N     75.7W\n",
       "49090  AL122015                 KATE    26.4N     76.2W\n",
       "49091  AL122015                 KATE    28.0N     76.2W\n",
       "49092  AL122015                 KATE    29.5N     75.4W\n",
       "49093  AL122015                 KATE    31.2N     74.0W\n",
       "49094  AL122015                 KATE    33.1N     71.3W\n",
       "49095  AL122015                 KATE    35.2N     67.6W\n",
       "49096  AL122015                 KATE    36.2N     62.5W\n",
       "49097  AL122015                 KATE    37.6N     58.2W\n",
       "49098  AL122015                 KATE    38.9N     55.0W\n",
       "49099  AL122015                 KATE    40.0N     52.0W\n",
       "49100  AL122015                 KATE    41.3N     50.4W\n",
       "49101  AL122015                 KATE    41.9N     49.9W\n",
       "49102  AL122015                 KATE    41.5N     49.2W\n",
       "49103  AL122015                 KATE    40.8N     47.5W\n",
       "49104  AL122015                 KATE    40.7N     45.4W"
      ]
     },
     "metadata": {},
     "execution_count": 11
    }
   ],
   "metadata": {}
  },
  {
   "cell_type": "code",
   "execution_count": 12,
   "source": [
    "lat = list(hurr_KATE['Latitude'])\n",
    "lon = list(hurr_KATE['Longitude'])\n",
    "for i in range(0,len(hurr_KATE)):\n",
    "    l = lat[i]\n",
    "    lo = lon[i]\n",
    "    if l[-1] == 'S':\n",
    "        lat[i] = '-' + l[:-1]\n",
    "    else:\n",
    "        lat[i] = l[:-1]\n",
    "\n",
    "    if lo[-1] == 'W':\n",
    "        lon[i] = '-' + lo[:-1]\n",
    "    else:\n",
    "        lon[i] = lo[:-1]"
   ],
   "outputs": [],
   "metadata": {}
  },
  {
   "cell_type": "code",
   "execution_count": 31,
   "source": [
    "lat_in_radians = [radians(float(_)) for _ in lat]\n",
    "lon_in_radians = [radians(float(_)) for _ in lon]\n",
    "coords = list(zip(lat_in_radians, lon_in_radians))\n",
    "coords"
   ],
   "outputs": [
    {
     "output_type": "execute_result",
     "data": {
      "text/plain": [
       "[(0.38746309394274114, -1.2479104151759457),\n",
       " (0.39793506945470714, -1.2671090369478832),\n",
       " (0.40840704496667307, -1.286307658719821),\n",
       " (0.42062434973063345, -1.3055062804917585),\n",
       " (0.4363323129985824, -1.3212142437597074),\n",
       " (0.460766922526503, -1.3299408900196792),\n",
       " (0.4886921905584123, -1.3299408900196792),\n",
       " (0.5148721293383273, -1.3159782560037245),\n",
       " (0.5445427266222308, -1.2915436464758039),\n",
       " (0.5777039824101231, -1.2444197566719568),\n",
       " (0.6143558967020041, -1.1798425743481666),\n",
       " (0.6318091892219474, -1.090830782496456),\n",
       " (0.6562437987498679, -1.0157816246606999),\n",
       " (0.6789330790257941, -0.9599310885968813),\n",
       " (0.6981317007977318, -0.9075712110370514),\n",
       " (0.7208209810736581, -0.8796459430051421),\n",
       " (0.7312929565856241, -0.8709192967451704),\n",
       " (0.7243116395776468, -0.8587019919812102),\n",
       " (0.7120943348136864, -0.8290313946973066),\n",
       " (0.7103490055616922, -0.7923794804054256)]"
      ]
     },
     "metadata": {},
     "execution_count": 31
    }
   ],
   "metadata": {}
  },
  {
   "cell_type": "code",
   "execution_count": 40,
   "source": [
    "print(list(coords[0]))\n",
    "nass = list((radians(25.0443), radians(-77.3504)))"
   ],
   "outputs": [
    {
     "output_type": "stream",
     "name": "stdout",
     "text": [
      "[0.38746309394274114, -1.2479104151759457]\n"
     ]
    }
   ],
   "metadata": {}
  },
  {
   "cell_type": "code",
   "execution_count": 50,
   "source": [
    "for i in range(0, len(lat_in_radians)):\n",
    "    print((haversine_distances([list(coords[i]), nass])[1,0]) * 6371000/1000)"
   ],
   "outputs": [
    {
     "output_type": "stream",
     "name": "stdout",
     "text": [
      "674.617885428788\n",
      "543.4586471679356\n",
      "412.83537695990276\n",
      "278.4564621188874\n",
      "166.363988954215\n",
      "189.74847225186627\n",
      "348.01122335344286\n",
      "531.5981106559171\n",
      "759.1261199268953\n",
      "1070.9595008307303\n",
      "1466.116213502429\n",
      "1882.0018498060126\n",
      "2285.1207278036136\n",
      "2599.0870547476234\n",
      "2883.768305737264\n",
      "3070.335883288987\n",
      "3138.2342351064735\n",
      "3169.602923619213\n",
      "3266.211086774145\n",
      "3426.2130321011646\n"
     ]
    }
   ],
   "metadata": {}
  },
  {
   "cell_type": "code",
   "execution_count": 7,
   "source": [
    "current_storm = pandas.read_json(\"https://www.nhc.noaa.gov/CurrentStorms.json\")"
   ],
   "outputs": [],
   "metadata": {}
  },
  {
   "cell_type": "code",
   "execution_count": 8,
   "source": [
    "current_storm"
   ],
   "outputs": [
    {
     "output_type": "execute_result",
     "data": {
      "text/html": [
       "<div>\n",
       "<style scoped>\n",
       "    .dataframe tbody tr th:only-of-type {\n",
       "        vertical-align: middle;\n",
       "    }\n",
       "\n",
       "    .dataframe tbody tr th {\n",
       "        vertical-align: top;\n",
       "    }\n",
       "\n",
       "    .dataframe thead th {\n",
       "        text-align: right;\n",
       "    }\n",
       "</style>\n",
       "<table border=\"1\" class=\"dataframe\">\n",
       "  <thead>\n",
       "    <tr style=\"text-align: right;\">\n",
       "      <th></th>\n",
       "      <th>activeStorms</th>\n",
       "    </tr>\n",
       "  </thead>\n",
       "  <tbody>\n",
       "    <tr>\n",
       "      <th>0</th>\n",
       "      <td>{'id': 'al152021', 'binNumber': 'AT5', 'name':...</td>\n",
       "    </tr>\n",
       "  </tbody>\n",
       "</table>\n",
       "</div>"
      ],
      "text/plain": [
       "                                        activeStorms\n",
       "0  {'id': 'al152021', 'binNumber': 'AT5', 'name':..."
      ]
     },
     "metadata": {},
     "execution_count": 8
    }
   ],
   "metadata": {}
  },
  {
   "cell_type": "code",
   "execution_count": 9,
   "source": [
    "current_storm = pandas.json_normalize(current_storm['activeStorms'])"
   ],
   "outputs": [],
   "metadata": {}
  },
  {
   "cell_type": "code",
   "execution_count": 19,
   "source": [
    "current_storm.columns"
   ],
   "outputs": [
    {
     "output_type": "execute_result",
     "data": {
      "text/plain": [
       "Index(['id', 'binNumber', 'name', 'classification', 'intensity', 'pressure',\n",
       "       'latitude', 'longitude', 'latitudeNumeric', 'longitudeNumeric',\n",
       "       'movementDir', 'movementSpeed', 'lastUpdate', 'windWatchesWarnings',\n",
       "       'stormSurgeWatchWarningGIS', 'potentialStormSurgeFloodingGIS',\n",
       "       'publicAdvisory.advNum', 'publicAdvisory.issuance',\n",
       "       'publicAdvisory.url', 'forecastAdvisory.advNum',\n",
       "       'forecastAdvisory.issuance', 'forecastAdvisory.url',\n",
       "       'windSpeedProbabilities.advNum', 'windSpeedProbabilities.issuance',\n",
       "       'windSpeedProbabilities.url', 'forecastDiscussion.advNum',\n",
       "       'forecastDiscussion.issuance', 'forecastDiscussion.url',\n",
       "       'forecastGraphics.advNum', 'forecastGraphics.issuance',\n",
       "       'forecastGraphics.url', 'forecastTrack.advNum',\n",
       "       'forecastTrack.issuance', 'forecastTrack.zipFile',\n",
       "       'forecastTrack.kmzFile', 'trackCone.advNum', 'trackCone.issuance',\n",
       "       'trackCone.zipFile', 'trackCone.kmzFile', 'initialWindExtent.advNum',\n",
       "       'initialWindExtent.issuance', 'initialWindExtent.zipFile',\n",
       "       'initialWindExtent.kmzFile', 'forecastWindRadiiGIS.advNum',\n",
       "       'forecastWindRadiiGIS.issuance', 'forecastWindRadiiGIS.zipFile',\n",
       "       'forecastWindRadiiGIS.kmzFile', 'bestTrackGIS.issuance',\n",
       "       'bestTrackGIS.zipFile', 'bestTrackGIS.kmzFile',\n",
       "       'earliestArrivalTimeTSWindsGIS.advNum',\n",
       "       'earliestArrivalTimeTSWindsGIS.issuance',\n",
       "       'earliestArrivalTimeTSWindsGIS.kmzFile',\n",
       "       'mostLikelyTimeTSWindsGIS.advNum', 'mostLikelyTimeTSWindsGIS.issuance',\n",
       "       'mostLikelyTimeTSWindsGIS.kmzFile',\n",
       "       'windSpeedProbabilitiesGIS.issuance',\n",
       "       'windSpeedProbabilitiesGIS.zipFile5km',\n",
       "       'windSpeedProbabilitiesGIS.zipFile0p5deg',\n",
       "       'windSpeedProbabilitiesGIS.kmzFile34kt',\n",
       "       'windSpeedProbabilitiesGIS.kmzFile50kt',\n",
       "       'windSpeedProbabilitiesGIS.kmzFile64kt'],\n",
       "      dtype='object')"
      ]
     },
     "metadata": {},
     "execution_count": 19
    }
   ],
   "metadata": {}
  },
  {
   "cell_type": "code",
   "execution_count": 66,
   "source": [
    "fp = \"../data/AL152021_lin.shp\"\n",
    "line = gpd.read_file(fp)"
   ],
   "outputs": [],
   "metadata": {}
  },
  {
   "cell_type": "code",
   "execution_count": 67,
   "source": [
    "line"
   ],
   "outputs": [
    {
     "output_type": "execute_result",
     "data": {
      "text/html": [
       "<div>\n",
       "<style scoped>\n",
       "    .dataframe tbody tr th:only-of-type {\n",
       "        vertical-align: middle;\n",
       "    }\n",
       "\n",
       "    .dataframe tbody tr th {\n",
       "        vertical-align: top;\n",
       "    }\n",
       "\n",
       "    .dataframe thead th {\n",
       "        text-align: right;\n",
       "    }\n",
       "</style>\n",
       "<table border=\"1\" class=\"dataframe\">\n",
       "  <thead>\n",
       "    <tr style=\"text-align: right;\">\n",
       "      <th></th>\n",
       "      <th>geometry</th>\n",
       "    </tr>\n",
       "  </thead>\n",
       "  <tbody>\n",
       "    <tr>\n",
       "      <th>0</th>\n",
       "      <td>LINESTRING (-70.00000 24.20000, -70.60000 24.9...</td>\n",
       "    </tr>\n",
       "    <tr>\n",
       "      <th>1</th>\n",
       "      <td>LINESTRING (-74.30000 30.40000, -74.70000 31.5...</td>\n",
       "    </tr>\n",
       "    <tr>\n",
       "      <th>2</th>\n",
       "      <td>LINESTRING (-72.60000 36.00000, -71.40000 36.7...</td>\n",
       "    </tr>\n",
       "  </tbody>\n",
       "</table>\n",
       "</div>"
      ],
      "text/plain": [
       "                                            geometry\n",
       "0  LINESTRING (-70.00000 24.20000, -70.60000 24.9...\n",
       "1  LINESTRING (-74.30000 30.40000, -74.70000 31.5...\n",
       "2  LINESTRING (-72.60000 36.00000, -71.40000 36.7..."
      ]
     },
     "metadata": {},
     "execution_count": 67
    }
   ],
   "metadata": {}
  },
  {
   "cell_type": "code",
   "execution_count": 68,
   "source": [
    "%matplotlib inline\n",
    "line.plot()"
   ],
   "outputs": [
    {
     "output_type": "execute_result",
     "data": {
      "text/plain": [
       "<AxesSubplot:>"
      ]
     },
     "metadata": {},
     "execution_count": 68
    },
    {
     "output_type": "display_data",
     "data": {
      "image/png": "[encoded data removed]",
      "text/plain": [
       "<Figure size 432x288 with 1 Axes>"
      ]
     },
     "metadata": {
      "needs_background": "dark"
     }
    }
   ],
   "metadata": {}
  },
  {
   "cell_type": "code",
   "execution_count": null,
   "source": [],
   "outputs": [],
   "metadata": {}
  }
 ],
 "metadata": {
  "kernelspec": {
   "name": "python3",
   "display_name": "Python 3.8.5 64-bit ('base': conda)"
  },
  "language_info": {
   "codemirror_mode": {
    "name": "ipython",
    "version": 3
   },
   "file_extension": ".py",
   "mimetype": "text/x-python",
   "name": "python",
   "nbconvert_exporter": "python",
   "pygments_lexer": "ipython3",
   "version": "3.8.5"
  },
  "interpreter": {
   "hash": "3067ead486e059ec00ffe7555bdb889e6e264a24dc711bf108106cc7baee8d5d"
  }
 },
 "nbformat": 4,
 "nbformat_minor": 4
}